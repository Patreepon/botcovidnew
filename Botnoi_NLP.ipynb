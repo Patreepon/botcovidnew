{
  "nbformat": 4,
  "nbformat_minor": 0,
  "metadata": {
    "colab": {
      "name": "Botnoi-NLP",
      "provenance": [],
      "collapsed_sections": []
    },
    "kernelspec": {
      "name": "python3",
      "display_name": "Python 3"
    }
  },
  "cells": [
    {
      "cell_type": "markdown",
      "metadata": {
        "id": "50h-0jAuMd9A",
        "colab_type": "text"
      },
      "source": [
        "Analytic results from iBOTNOI www.botnoigroup.com"
      ]
    },
    {
      "cell_type": "code",
      "metadata": {
        "id": "vEXWlA_dJ-dW",
        "colab_type": "code",
        "outputId": "882a5015-04e7-468c-d9dc-0879da241990",
        "colab": {
          "base_uri": "https://localhost:8080/",
          "height": 684
        }
      },
      "source": [
        "!pip install --upgrade -q pygsheets\n",
        "!pip install pythainlp"
      ],
      "execution_count": 0,
      "outputs": [
        {
          "output_type": "stream",
          "text": [
            "Collecting pythainlp\n",
            "\u001b[?25l  Downloading https://files.pythonhosted.org/packages/cb/14/b80930a2cc09ed6b5f8a22da9be6ece56939839ae66d921d9c7123034ba0/pythainlp-2.1.4-py3-none-any.whl (11.1MB)\n",
            "\u001b[K     |████████████████████████████████| 11.1MB 2.6MB/s \n",
            "\u001b[?25hRequirement already satisfied: dill>=0.3.0 in /usr/local/lib/python3.6/dist-packages (from pythainlp) (0.3.1.1)\n",
            "Collecting requests>=2.22.0\n",
            "\u001b[?25l  Downloading https://files.pythonhosted.org/packages/1a/70/1935c770cb3be6e3a8b78ced23d7e0f3b187f5cbfab4749523ed65d7c9b1/requests-2.23.0-py2.py3-none-any.whl (58kB)\n",
            "\u001b[K     |████████████████████████████████| 61kB 9.0MB/s \n",
            "\u001b[?25hCollecting nltk>=3.3\n",
            "\u001b[?25l  Downloading https://files.pythonhosted.org/packages/f6/1d/d925cfb4f324ede997f6d47bea4d9babba51b49e87a767c170b77005889d/nltk-3.4.5.zip (1.5MB)\n",
            "\u001b[K     |████████████████████████████████| 1.5MB 44.8MB/s \n",
            "\u001b[?25hRequirement already satisfied: tqdm>=4.1 in /usr/local/lib/python3.6/dist-packages (from pythainlp) (4.38.0)\n",
            "Collecting tinydb>=3.0\n",
            "  Downloading https://files.pythonhosted.org/packages/22/11/c3adfc1b367d1955461f82a4a0a8ffffd37b193e98f2fe89338cdd4a8a6a/tinydb-3.15.2-py2.py3-none-any.whl\n",
            "Requirement already satisfied: urllib3!=1.25.0,!=1.25.1,<1.26,>=1.21.1 in /usr/local/lib/python3.6/dist-packages (from requests>=2.22.0->pythainlp) (1.24.3)\n",
            "Requirement already satisfied: idna<3,>=2.5 in /usr/local/lib/python3.6/dist-packages (from requests>=2.22.0->pythainlp) (2.8)\n",
            "Requirement already satisfied: certifi>=2017.4.17 in /usr/local/lib/python3.6/dist-packages (from requests>=2.22.0->pythainlp) (2019.11.28)\n",
            "Requirement already satisfied: chardet<4,>=3.0.2 in /usr/local/lib/python3.6/dist-packages (from requests>=2.22.0->pythainlp) (3.0.4)\n",
            "Requirement already satisfied: six in /usr/local/lib/python3.6/dist-packages (from nltk>=3.3->pythainlp) (1.12.0)\n",
            "Building wheels for collected packages: nltk\n",
            "  Building wheel for nltk (setup.py) ... \u001b[?25l\u001b[?25hdone\n",
            "  Created wheel for nltk: filename=nltk-3.4.5-cp36-none-any.whl size=1449904 sha256=54951824b2c30a0c0b809b6eb5a091fd7ba1f881771e448c7e4e632a3f424b1c\n",
            "  Stored in directory: /root/.cache/pip/wheels/96/86/f6/68ab24c23f207c0077381a5e3904b2815136b879538a24b483\n",
            "Successfully built nltk\n",
            "\u001b[31mERROR: google-colab 1.0.0 has requirement requests~=2.21.0, but you'll have requests 2.23.0 which is incompatible.\u001b[0m\n",
            "\u001b[31mERROR: datascience 0.10.6 has requirement folium==0.2.1, but you'll have folium 0.8.3 which is incompatible.\u001b[0m\n",
            "Installing collected packages: requests, nltk, tinydb, pythainlp\n",
            "  Found existing installation: requests 2.21.0\n",
            "    Uninstalling requests-2.21.0:\n",
            "      Successfully uninstalled requests-2.21.0\n",
            "  Found existing installation: nltk 3.2.5\n",
            "    Uninstalling nltk-3.2.5:\n",
            "      Successfully uninstalled nltk-3.2.5\n",
            "Successfully installed nltk-3.4.5 pythainlp-2.1.4 requests-2.23.0 tinydb-3.15.2\n"
          ],
          "name": "stdout"
        },
        {
          "output_type": "display_data",
          "data": {
            "application/vnd.colab-display-data+json": {
              "pip_warning": {
                "packages": [
                  "requests"
                ]
              }
            }
          },
          "metadata": {
            "tags": []
          }
        }
      ]
    },
    {
      "cell_type": "markdown",
      "metadata": {
        "id": "kh4c3W9sKp-5",
        "colab_type": "text"
      },
      "source": [
        ""
      ]
    },
    {
      "cell_type": "code",
      "metadata": {
        "id": "903N8CKmL1OQ",
        "colab_type": "code",
        "colab": {}
      },
      "source": [
        "import google.auth\n",
        "from google.colab import auth\n",
        "auth.authenticate_user()\n",
        "import pygsheets\n",
        "import pandas as pd\n",
        "import numpy as np\n",
        "import seaborn as sns\n",
        "credentials, _ = google.auth.default()\n",
        "gc = pygsheets.client.Client(credentials)"
      ],
      "execution_count": 0,
      "outputs": []
    },
    {
      "cell_type": "markdown",
      "metadata": {
        "id": "_QdXrcy1wTL4",
        "colab_type": "text"
      },
      "source": [
        "# Dataset from \n",
        "https://docs.google.com/spreadsheets/d/1tOiz6S8tlc9zue8ZumUdw5-H75pAmjdWTqNjqLRF38c/edit?usp=sharing\n",
        "\n"
      ]
    },
    {
      "cell_type": "code",
      "metadata": {
        "id": "JFYGsLNf7Yvo",
        "colab_type": "code",
        "colab": {}
      },
      "source": [
        "sheet = gc.open_by_url('https://docs.google.com/spreadsheets/d/1tOiz6S8tlc9zue8ZumUdw5-H75pAmjdWTqNjqLRF38c/edit?usp=sharing')\n",
        "dat = sheet.worksheet('index', 0).get_as_df()\n",
        "ansdat = sheet.worksheet('index', 1).get_as_df()"
      ],
      "execution_count": 0,
      "outputs": []
    },
    {
      "cell_type": "code",
      "metadata": {
        "id": "AYJl-Vom-TOO",
        "colab_type": "code",
        "outputId": "f5a4400b-ff32-4ed2-a621-78f898873e30",
        "colab": {
          "base_uri": "https://localhost:8080/",
          "height": 34
        }
      },
      "source": [
        "len(dat)"
      ],
      "execution_count": 0,
      "outputs": [
        {
          "output_type": "execute_result",
          "data": {
            "text/plain": [
              "187"
            ]
          },
          "metadata": {
            "tags": []
          },
          "execution_count": 12
        }
      ]
    },
    {
      "cell_type": "code",
      "metadata": {
        "id": "654teckr-G3f",
        "colab_type": "code",
        "outputId": "853e0a67-3eb6-4d80-c043-d247f843875d",
        "colab": {
          "base_uri": "https://localhost:8080/",
          "height": 545
        }
      },
      "source": [
        "datstat = dat.groupby(by='Intent').count()\n",
        "datstat = datstat.sort_values(by='Keyword')\n",
        "datstat"
      ],
      "execution_count": 0,
      "outputs": [
        {
          "output_type": "execute_result",
          "data": {
            "text/html": [
              "<div>\n",
              "<style scoped>\n",
              "    .dataframe tbody tr th:only-of-type {\n",
              "        vertical-align: middle;\n",
              "    }\n",
              "\n",
              "    .dataframe tbody tr th {\n",
              "        vertical-align: top;\n",
              "    }\n",
              "\n",
              "    .dataframe thead th {\n",
              "        text-align: right;\n",
              "    }\n",
              "</style>\n",
              "<table border=\"1\" class=\"dataframe\">\n",
              "  <thead>\n",
              "    <tr style=\"text-align: right;\">\n",
              "      <th></th>\n",
              "      <th>Keyword</th>\n",
              "    </tr>\n",
              "    <tr>\n",
              "      <th>Intent</th>\n",
              "      <th></th>\n",
              "    </tr>\n",
              "  </thead>\n",
              "  <tbody>\n",
              "    <tr>\n",
              "      <th>in_การทำความสะอาดรถ</th>\n",
              "      <td>5</td>\n",
              "    </tr>\n",
              "    <tr>\n",
              "      <th>in_ปอดเสียหายทุกคนหรือไม่</th>\n",
              "      <td>5</td>\n",
              "    </tr>\n",
              "    <tr>\n",
              "      <th>in_ความอันตรายของโควิด</th>\n",
              "      <td>8</td>\n",
              "    </tr>\n",
              "    <tr>\n",
              "      <th>in_อาการทั่วไปของโควิด</th>\n",
              "      <td>8</td>\n",
              "    </tr>\n",
              "    <tr>\n",
              "      <th>in_เป็นแล้วหายเองได้หรือไม่</th>\n",
              "      <td>8</td>\n",
              "    </tr>\n",
              "    <tr>\n",
              "      <th>in_แนะนำวิธีป้องกัน</th>\n",
              "      <td>10</td>\n",
              "    </tr>\n",
              "    <tr>\n",
              "      <th>in_การแพร่กระจายของโควิด</th>\n",
              "      <td>11</td>\n",
              "    </tr>\n",
              "    <tr>\n",
              "      <th>in_โควิดกับโรคทางเดินหายใจตะวันออก</th>\n",
              "      <td>11</td>\n",
              "    </tr>\n",
              "    <tr>\n",
              "      <th>in_การป้องกันไม่ให้เชื้อแพร่</th>\n",
              "      <td>15</td>\n",
              "    </tr>\n",
              "    <tr>\n",
              "      <th>in_ขนาดของโควิด</th>\n",
              "      <td>16</td>\n",
              "    </tr>\n",
              "    <tr>\n",
              "      <th>in_ข้อแนะนำในการนั่งรถสาธารณะ</th>\n",
              "      <td>16</td>\n",
              "    </tr>\n",
              "    <tr>\n",
              "      <th>in_ช่วงอายุกับการติดโรค</th>\n",
              "      <td>16</td>\n",
              "    </tr>\n",
              "    <tr>\n",
              "      <th>in_อาการโควิด</th>\n",
              "      <td>17</td>\n",
              "    </tr>\n",
              "    <tr>\n",
              "      <th>in_อัตราตายของโรค</th>\n",
              "      <td>19</td>\n",
              "    </tr>\n",
              "    <tr>\n",
              "      <th>in_จุดเริ่มต้นของโควิด</th>\n",
              "      <td>22</td>\n",
              "    </tr>\n",
              "  </tbody>\n",
              "</table>\n",
              "</div>"
            ],
            "text/plain": [
              "                                    Keyword\n",
              "Intent                                     \n",
              "in_การทำความสะอาดรถ                       5\n",
              "in_ปอดเสียหายทุกคนหรือไม่                 5\n",
              "in_ความอันตรายของโควิด                    8\n",
              "in_อาการทั่วไปของโควิด                    8\n",
              "in_เป็นแล้วหายเองได้หรือไม่               8\n",
              "in_แนะนำวิธีป้องกัน                      10\n",
              "in_การแพร่กระจายของโควิด                 11\n",
              "in_โควิดกับโรคทางเดินหายใจตะวันออก       11\n",
              "in_การป้องกันไม่ให้เชื้อแพร่             15\n",
              "in_ขนาดของโควิด                          16\n",
              "in_ข้อแนะนำในการนั่งรถสาธารณะ            16\n",
              "in_ช่วงอายุกับการติดโรค                  16\n",
              "in_อาการโควิด                            17\n",
              "in_อัตราตายของโรค                        19\n",
              "in_จุดเริ่มต้นของโควิด                   22"
            ]
          },
          "metadata": {
            "tags": []
          },
          "execution_count": 155
        }
      ]
    },
    {
      "cell_type": "code",
      "metadata": {
        "id": "SDrx1W-N_R6B",
        "colab_type": "code",
        "outputId": "c95a908a-a0f2-489b-d94a-b556602ec4a0",
        "colab": {
          "base_uri": "https://localhost:8080/",
          "height": 419
        }
      },
      "source": [
        ""
      ],
      "execution_count": 0,
      "outputs": [
        {
          "output_type": "execute_result",
          "data": {
            "text/html": [
              "<div>\n",
              "<style scoped>\n",
              "    .dataframe tbody tr th:only-of-type {\n",
              "        vertical-align: middle;\n",
              "    }\n",
              "\n",
              "    .dataframe tbody tr th {\n",
              "        vertical-align: top;\n",
              "    }\n",
              "\n",
              "    .dataframe thead th {\n",
              "        text-align: right;\n",
              "    }\n",
              "</style>\n",
              "<table border=\"1\" class=\"dataframe\">\n",
              "  <thead>\n",
              "    <tr style=\"text-align: right;\">\n",
              "      <th></th>\n",
              "      <th>Keyword</th>\n",
              "      <th>Intent</th>\n",
              "    </tr>\n",
              "  </thead>\n",
              "  <tbody>\n",
              "    <tr>\n",
              "      <th>113</th>\n",
              "      <td>ทุกคนมีโอกาสที่จะติดเชื้อในอัตราที่เท่ากันหรือไม่</td>\n",
              "      <td>in_ช่วงอายุกับการติดโรค</td>\n",
              "    </tr>\n",
              "    <tr>\n",
              "      <th>18</th>\n",
              "      <td>มันอันตรายถึงขั้นไหน</td>\n",
              "      <td>in_ความอันตรายของโควิด</td>\n",
              "    </tr>\n",
              "    <tr>\n",
              "      <th>86</th>\n",
              "      <td>พบโควิดที่แรก คือที่ไหนอะ</td>\n",
              "      <td>in_จุดเริ่มต้นของโควิด</td>\n",
              "    </tr>\n",
              "    <tr>\n",
              "      <th>70</th>\n",
              "      <td>มีวิธีที่ไม่ให้เชื้อแพร่ไปไหม</td>\n",
              "      <td>in_การป้องกันไม่ให้เชื้อแพร่</td>\n",
              "    </tr>\n",
              "    <tr>\n",
              "      <th>144</th>\n",
              "      <td>ป้องกันอย่างไรเมื่อต้องใช้รถโดยสาร</td>\n",
              "      <td>in_ข้อแนะนำในการนั่งรถสาธารณะ</td>\n",
              "    </tr>\n",
              "    <tr>\n",
              "      <th>...</th>\n",
              "      <td>...</td>\n",
              "      <td>...</td>\n",
              "    </tr>\n",
              "    <tr>\n",
              "      <th>120</th>\n",
              "      <td>ช่วงอายุมีผลต่อการติดเชื้อไหมครับ</td>\n",
              "      <td>in_ช่วงอายุกับการติดโรค</td>\n",
              "    </tr>\n",
              "    <tr>\n",
              "      <th>46</th>\n",
              "      <td>การระบาดของโควิด</td>\n",
              "      <td>in_การแพร่กระจายของโควิด</td>\n",
              "    </tr>\n",
              "    <tr>\n",
              "      <th>131</th>\n",
              "      <td>วิธีป้องกันเมื่อต้องใช้รถสาธารณะ</td>\n",
              "      <td>in_ข้อแนะนำในการนั่งรถสาธารณะ</td>\n",
              "    </tr>\n",
              "    <tr>\n",
              "      <th>137</th>\n",
              "      <td>ใช้รถสาธารณะอย่างปลอดภัย</td>\n",
              "      <td>in_ข้อแนะนำในการนั่งรถสาธารณะ</td>\n",
              "    </tr>\n",
              "    <tr>\n",
              "      <th>51</th>\n",
              "      <td>ไวรัสตัวนี้แพร่กระจายทางไหน</td>\n",
              "      <td>in_การแพร่กระจายของโควิด</td>\n",
              "    </tr>\n",
              "  </tbody>\n",
              "</table>\n",
              "<p>187 rows × 2 columns</p>\n",
              "</div>"
            ],
            "text/plain": [
              "                                               Keyword                         Intent\n",
              "113  ทุกคนมีโอกาสที่จะติดเชื้อในอัตราที่เท่ากันหรือไม่        in_ช่วงอายุกับการติดโรค\n",
              "18                                มันอันตรายถึงขั้นไหน         in_ความอันตรายของโควิด\n",
              "86                           พบโควิดที่แรก คือที่ไหนอะ         in_จุดเริ่มต้นของโควิด\n",
              "70                       มีวิธีที่ไม่ให้เชื้อแพร่ไปไหม   in_การป้องกันไม่ให้เชื้อแพร่\n",
              "144                 ป้องกันอย่างไรเมื่อต้องใช้รถโดยสาร  in_ข้อแนะนำในการนั่งรถสาธารณะ\n",
              "..                                                 ...                            ...\n",
              "120                  ช่วงอายุมีผลต่อการติดเชื้อไหมครับ        in_ช่วงอายุกับการติดโรค\n",
              "46                                    การระบาดของโควิด       in_การแพร่กระจายของโควิด\n",
              "131                   วิธีป้องกันเมื่อต้องใช้รถสาธารณะ  in_ข้อแนะนำในการนั่งรถสาธารณะ\n",
              "137                           ใช้รถสาธารณะอย่างปลอดภัย  in_ข้อแนะนำในการนั่งรถสาธารณะ\n",
              "51                         ไวรัสตัวนี้แพร่กระจายทางไหน       in_การแพร่กระจายของโควิด\n",
              "\n",
              "[187 rows x 2 columns]"
            ]
          },
          "metadata": {
            "tags": []
          },
          "execution_count": 14
        }
      ]
    },
    {
      "cell_type": "code",
      "metadata": {
        "id": "3oTGdEulABa_",
        "colab_type": "code",
        "colab": {}
      },
      "source": [
        "def splittraintest(dat,trainratio=0.7):\n",
        "  sdat = dat.sample(frac=1,random_state=0)\n",
        "  ntrain = int(len(dat)*trainratio)\n",
        "  traindat = sdat.iloc[0:ntrain]\n",
        "  testdat = sdat.iloc[ntrain:]\n",
        "  return traindat,testdat"
      ],
      "execution_count": 0,
      "outputs": []
    },
    {
      "cell_type": "code",
      "metadata": {
        "id": "ek-gZj35AyLt",
        "colab_type": "code",
        "outputId": "ec423918-8082-4d00-e674-753b96769d07",
        "colab": {
          "base_uri": "https://localhost:8080/",
          "height": 419
        }
      },
      "source": [
        "trdat,tedat = splittraintest(dat)\n",
        "trdat"
      ],
      "execution_count": 0,
      "outputs": [
        {
          "output_type": "execute_result",
          "data": {
            "text/html": [
              "<div>\n",
              "<style scoped>\n",
              "    .dataframe tbody tr th:only-of-type {\n",
              "        vertical-align: middle;\n",
              "    }\n",
              "\n",
              "    .dataframe tbody tr th {\n",
              "        vertical-align: top;\n",
              "    }\n",
              "\n",
              "    .dataframe thead th {\n",
              "        text-align: right;\n",
              "    }\n",
              "</style>\n",
              "<table border=\"1\" class=\"dataframe\">\n",
              "  <thead>\n",
              "    <tr style=\"text-align: right;\">\n",
              "      <th></th>\n",
              "      <th>Keyword</th>\n",
              "      <th>Intent</th>\n",
              "    </tr>\n",
              "  </thead>\n",
              "  <tbody>\n",
              "    <tr>\n",
              "      <th>36</th>\n",
              "      <td>เชื้อนี้เรามองเห็นปะ</td>\n",
              "      <td>in_ขนาดของโควิด</td>\n",
              "    </tr>\n",
              "    <tr>\n",
              "      <th>121</th>\n",
              "      <td>วัยรุ่นกับผู้สูงอายุมีโอกาสติดเชื้อต่างกันไหม</td>\n",
              "      <td>in_ช่วงอายุกับการติดโรค</td>\n",
              "    </tr>\n",
              "    <tr>\n",
              "      <th>75</th>\n",
              "      <td>โควิดมันมาจากไหน</td>\n",
              "      <td>in_จุดเริ่มต้นของโควิด</td>\n",
              "    </tr>\n",
              "    <tr>\n",
              "      <th>178</th>\n",
              "      <td>เราจะป้องกันด้วยวิธีใดได้มั่ง</td>\n",
              "      <td>in_แนะนำวิธีป้องกัน</td>\n",
              "    </tr>\n",
              "    <tr>\n",
              "      <th>101</th>\n",
              "      <td>มันเหมือนกับโรคซาร์ไหม</td>\n",
              "      <td>in_โควิดกับโรคทางเดินหายใจตะวันออก</td>\n",
              "    </tr>\n",
              "    <tr>\n",
              "      <th>...</th>\n",
              "      <td>...</td>\n",
              "      <td>...</td>\n",
              "    </tr>\n",
              "    <tr>\n",
              "      <th>172</th>\n",
              "      <td>ปอดที่ติดเชื้อโควิด จะถูกทำลายเสียหายทุกคนไหม</td>\n",
              "      <td>in_ปอดเสียหายทุกคนหรือไม่</td>\n",
              "    </tr>\n",
              "    <tr>\n",
              "      <th>24</th>\n",
              "      <td>ความน่ากลัวของโควิด</td>\n",
              "      <td>in_ความอันตรายของโควิด</td>\n",
              "    </tr>\n",
              "    <tr>\n",
              "      <th>135</th>\n",
              "      <td>การใช้ mrt อย่างปลอดภัย</td>\n",
              "      <td>in_ข้อแนะนำในการนั่งรถสาธารณะ</td>\n",
              "    </tr>\n",
              "    <tr>\n",
              "      <th>105</th>\n",
              "      <td>อาการของคนที่ป่วยโรคนี้</td>\n",
              "      <td>in_อาการทั่วไปของโควิด</td>\n",
              "    </tr>\n",
              "    <tr>\n",
              "      <th>89</th>\n",
              "      <td>เจอโควิดที่แรกคือจีนใช่ไหม</td>\n",
              "      <td>in_จุดเริ่มต้นของโควิด</td>\n",
              "    </tr>\n",
              "  </tbody>\n",
              "</table>\n",
              "<p>130 rows × 2 columns</p>\n",
              "</div>"
            ],
            "text/plain": [
              "                                           Keyword                              Intent\n",
              "36                            เชื้อนี้เรามองเห็นปะ                     in_ขนาดของโควิด\n",
              "121  วัยรุ่นกับผู้สูงอายุมีโอกาสติดเชื้อต่างกันไหม             in_ช่วงอายุกับการติดโรค\n",
              "75                                โควิดมันมาจากไหน              in_จุดเริ่มต้นของโควิด\n",
              "178                  เราจะป้องกันด้วยวิธีใดได้มั่ง                 in_แนะนำวิธีป้องกัน\n",
              "101                         มันเหมือนกับโรคซาร์ไหม  in_โควิดกับโรคทางเดินหายใจตะวันออก\n",
              "..                                             ...                                 ...\n",
              "172  ปอดที่ติดเชื้อโควิด จะถูกทำลายเสียหายทุกคนไหม           in_ปอดเสียหายทุกคนหรือไม่\n",
              "24                             ความน่ากลัวของโควิด              in_ความอันตรายของโควิด\n",
              "135                        การใช้ mrt อย่างปลอดภัย       in_ข้อแนะนำในการนั่งรถสาธารณะ\n",
              "105                        อาการของคนที่ป่วยโรคนี้              in_อาการทั่วไปของโควิด\n",
              "89                      เจอโควิดที่แรกคือจีนใช่ไหม              in_จุดเริ่มต้นของโควิด\n",
              "\n",
              "[130 rows x 2 columns]"
            ]
          },
          "metadata": {
            "tags": []
          },
          "execution_count": 22
        }
      ]
    },
    {
      "cell_type": "code",
      "metadata": {
        "id": "fCppzTiy-ogi",
        "colab_type": "code",
        "outputId": "ac9d8a45-646b-43be-f404-cf2480274f63",
        "colab": {
          "base_uri": "https://localhost:8080/",
          "height": 459
        }
      },
      "source": [
        "from pythainlp import word_tokenize\n",
        "def get_wd_tokens(text):\n",
        "    tokens = word_tokenize(text)\n",
        "    return tokens\n",
        "def get_cr_tokens(text):\n",
        "    tokens = list(text)\n",
        "    return tokens\n",
        "def get_wo_cr_tokens(text):\n",
        "    tokens = get_wd_tokens(text) + get_cr_tokens(text)\n",
        "    return tokens\n",
        "get_wo_cr_tokens('สวัสดีครับคุณชื่ออะไร')"
      ],
      "execution_count": 0,
      "outputs": [
        {
          "output_type": "execute_result",
          "data": {
            "text/plain": [
              "['สวัสดี',\n",
              " 'ครับ',\n",
              " 'คุณ',\n",
              " 'ชื่อ',\n",
              " 'อะไร',\n",
              " 'ส',\n",
              " 'ว',\n",
              " 'ั',\n",
              " 'ส',\n",
              " 'ด',\n",
              " 'ี',\n",
              " 'ค',\n",
              " 'ร',\n",
              " 'ั',\n",
              " 'บ',\n",
              " 'ค',\n",
              " 'ุ',\n",
              " 'ณ',\n",
              " 'ช',\n",
              " 'ื',\n",
              " '่',\n",
              " 'อ',\n",
              " 'อ',\n",
              " 'ะ',\n",
              " 'ไ',\n",
              " 'ร']"
            ]
          },
          "metadata": {
            "tags": []
          },
          "execution_count": 86
        }
      ]
    },
    {
      "cell_type": "code",
      "metadata": {
        "id": "7F2Vl6c3Bd1s",
        "colab_type": "code",
        "colab": {}
      },
      "source": [
        "from sklearn.feature_extraction.text import CountVectorizer, TfidfVectorizer"
      ],
      "execution_count": 0,
      "outputs": []
    },
    {
      "cell_type": "code",
      "metadata": {
        "id": "7iF2nE1D_Nnn",
        "colab_type": "code",
        "outputId": "9f460a62-6d96-44c1-9ca8-26bbea9dc849",
        "colab": {
          "base_uri": "https://localhost:8080/",
          "height": 207
        }
      },
      "source": [
        "trkeyword = trdat['Keyword'].values\n",
        "vectorizer = TfidfVectorizer(tokenizer=get_wo_cr_tokens, ngram_range=(1,3))\n",
        "vectorizer.fit(trkeyword)"
      ],
      "execution_count": 0,
      "outputs": [
        {
          "output_type": "stream",
          "text": [
            "/usr/local/lib/python3.6/dist-packages/sklearn/feature_extraction/text.py:507: UserWarning: The parameter 'token_pattern' will not be used since 'tokenizer' is not None'\n",
            "  warnings.warn(\"The parameter 'token_pattern' will not be used\"\n"
          ],
          "name": "stderr"
        },
        {
          "output_type": "execute_result",
          "data": {
            "text/plain": [
              "TfidfVectorizer(analyzer='word', binary=False, decode_error='strict',\n",
              "                dtype=<class 'numpy.float64'>, encoding='utf-8',\n",
              "                input='content', lowercase=True, max_df=1.0, max_features=None,\n",
              "                min_df=1, ngram_range=(1, 3), norm='l2', preprocessor=None,\n",
              "                smooth_idf=True, stop_words=None, strip_accents=None,\n",
              "                sublinear_tf=False, token_pattern='(?u)\\\\b\\\\w\\\\w+\\\\b',\n",
              "                tokenizer=<function get_wo_cr_tokens at 0x7f8f84555488>,\n",
              "                use_idf=True, vocabulary=None)"
            ]
          },
          "metadata": {
            "tags": []
          },
          "execution_count": 98
        }
      ]
    },
    {
      "cell_type": "code",
      "metadata": {
        "id": "5ODCGaV2CjCI",
        "colab_type": "code",
        "outputId": "313d3714-05f0-4b0d-d9d3-32fbfc1f6670",
        "colab": {
          "base_uri": "https://localhost:8080/",
          "height": 51
        }
      },
      "source": [
        "tekeyword = tedat['Keyword'].values\n",
        "trfeat = vectorizer.transform(trkeyword)\n",
        "tefeat = vectorizer.transform(tekeyword)\n",
        "tefeat"
      ],
      "execution_count": 0,
      "outputs": [
        {
          "output_type": "execute_result",
          "data": {
            "text/plain": [
              "<57x3072 sparse matrix of type '<class 'numpy.float64'>'\n",
              "\twith 4640 stored elements in Compressed Sparse Row format>"
            ]
          },
          "metadata": {
            "tags": []
          },
          "execution_count": 99
        }
      ]
    },
    {
      "cell_type": "code",
      "metadata": {
        "id": "UrkXziKvC3lT",
        "colab_type": "code",
        "colab": {}
      },
      "source": [
        "trlabel = trdat['Intent'].values\n",
        "telabel = tedat['Intent'].values\n",
        "from sklearn.svm import LinearSVC\n",
        "from sklearn.preprocessing import normalize\n",
        "trfeat_norm = normalize(trfeat)\n",
        "tefeat_norm = normalize(tefeat)\n",
        "model = LinearSVC(random_state=0)\n",
        "model.fit(trfeat_norm, trlabel)\n",
        "pred = model.predict(tefeat_norm)\n"
      ],
      "execution_count": 0,
      "outputs": []
    },
    {
      "cell_type": "code",
      "metadata": {
        "id": "5TeP089wDc4i",
        "colab_type": "code",
        "colab": {}
      },
      "source": [
        "def accuracy_cal(gt,pred):\n",
        "  return sum(gt==pred)/len(gt)"
      ],
      "execution_count": 0,
      "outputs": []
    },
    {
      "cell_type": "code",
      "metadata": {
        "id": "-5LUyePRD5-E",
        "colab_type": "code",
        "outputId": "029bcfaf-faf6-4133-dbca-190c42218ac7",
        "colab": {
          "base_uri": "https://localhost:8080/",
          "height": 34
        }
      },
      "source": [
        "accuracy_cal(telabel,pred)"
      ],
      "execution_count": 0,
      "outputs": [
        {
          "output_type": "execute_result",
          "data": {
            "text/plain": [
              "0.8245614035087719"
            ]
          },
          "metadata": {
            "tags": []
          },
          "execution_count": 102
        }
      ]
    },
    {
      "cell_type": "code",
      "metadata": {
        "id": "Hz2jVQRHE8hi",
        "colab_type": "code",
        "outputId": "7a2b5dc1-e3dc-4fd4-ba05-023ed6f103f9",
        "colab": {
          "base_uri": "https://localhost:8080/",
          "height": 1000
        }
      },
      "source": [
        "from sklearn.metrics import classification_report, accuracy_score, confusion_matrix\n",
        "clslist = list(set(telabel))\n",
        "res = confusion_matrix(telabel,pred,labels=clslist)\n",
        "cf = pd.DataFrame(data=res,columns=clslist,index=clslist)\n",
        "cf"
      ],
      "execution_count": 0,
      "outputs": [
        {
          "output_type": "execute_result",
          "data": {
            "text/html": [
              "<div>\n",
              "<style scoped>\n",
              "    .dataframe tbody tr th:only-of-type {\n",
              "        vertical-align: middle;\n",
              "    }\n",
              "\n",
              "    .dataframe tbody tr th {\n",
              "        vertical-align: top;\n",
              "    }\n",
              "\n",
              "    .dataframe thead th {\n",
              "        text-align: right;\n",
              "    }\n",
              "</style>\n",
              "<table border=\"1\" class=\"dataframe\">\n",
              "  <thead>\n",
              "    <tr style=\"text-align: right;\">\n",
              "      <th></th>\n",
              "      <th>in_การแพร่กระจายของโควิด</th>\n",
              "      <th>in_ความอันตรายของโควิด</th>\n",
              "      <th>in_ช่วงอายุกับการติดโรค</th>\n",
              "      <th>in_ปอดเสียหายทุกคนหรือไม่</th>\n",
              "      <th>in_ข้อแนะนำในการนั่งรถสาธารณะ</th>\n",
              "      <th>in_อัตราตายของโรค</th>\n",
              "      <th>in_อาการโควิด</th>\n",
              "      <th>in_อาการทั่วไปของโควิด</th>\n",
              "      <th>in_ขนาดของโควิด</th>\n",
              "      <th>in_เป็นแล้วหายเองได้หรือไม่</th>\n",
              "      <th>in_โควิดกับโรคทางเดินหายใจตะวันออก</th>\n",
              "      <th>in_แนะนำวิธีป้องกัน</th>\n",
              "      <th>in_จุดเริ่มต้นของโควิด</th>\n",
              "      <th>in_การทำความสะอาดรถ</th>\n",
              "      <th>in_การป้องกันไม่ให้เชื้อแพร่</th>\n",
              "    </tr>\n",
              "  </thead>\n",
              "  <tbody>\n",
              "    <tr>\n",
              "      <th>in_การแพร่กระจายของโควิด</th>\n",
              "      <td>3</td>\n",
              "      <td>0</td>\n",
              "      <td>0</td>\n",
              "      <td>0</td>\n",
              "      <td>0</td>\n",
              "      <td>0</td>\n",
              "      <td>0</td>\n",
              "      <td>0</td>\n",
              "      <td>0</td>\n",
              "      <td>0</td>\n",
              "      <td>0</td>\n",
              "      <td>0</td>\n",
              "      <td>0</td>\n",
              "      <td>0</td>\n",
              "      <td>0</td>\n",
              "    </tr>\n",
              "    <tr>\n",
              "      <th>in_ความอันตรายของโควิด</th>\n",
              "      <td>0</td>\n",
              "      <td>4</td>\n",
              "      <td>0</td>\n",
              "      <td>0</td>\n",
              "      <td>0</td>\n",
              "      <td>0</td>\n",
              "      <td>0</td>\n",
              "      <td>0</td>\n",
              "      <td>0</td>\n",
              "      <td>0</td>\n",
              "      <td>0</td>\n",
              "      <td>0</td>\n",
              "      <td>0</td>\n",
              "      <td>0</td>\n",
              "      <td>0</td>\n",
              "    </tr>\n",
              "    <tr>\n",
              "      <th>in_ช่วงอายุกับการติดโรค</th>\n",
              "      <td>0</td>\n",
              "      <td>0</td>\n",
              "      <td>5</td>\n",
              "      <td>0</td>\n",
              "      <td>0</td>\n",
              "      <td>0</td>\n",
              "      <td>0</td>\n",
              "      <td>0</td>\n",
              "      <td>0</td>\n",
              "      <td>0</td>\n",
              "      <td>0</td>\n",
              "      <td>0</td>\n",
              "      <td>0</td>\n",
              "      <td>0</td>\n",
              "      <td>0</td>\n",
              "    </tr>\n",
              "    <tr>\n",
              "      <th>in_ปอดเสียหายทุกคนหรือไม่</th>\n",
              "      <td>0</td>\n",
              "      <td>0</td>\n",
              "      <td>0</td>\n",
              "      <td>2</td>\n",
              "      <td>0</td>\n",
              "      <td>0</td>\n",
              "      <td>0</td>\n",
              "      <td>0</td>\n",
              "      <td>0</td>\n",
              "      <td>0</td>\n",
              "      <td>0</td>\n",
              "      <td>0</td>\n",
              "      <td>0</td>\n",
              "      <td>0</td>\n",
              "      <td>0</td>\n",
              "    </tr>\n",
              "    <tr>\n",
              "      <th>in_ข้อแนะนำในการนั่งรถสาธารณะ</th>\n",
              "      <td>0</td>\n",
              "      <td>0</td>\n",
              "      <td>0</td>\n",
              "      <td>0</td>\n",
              "      <td>4</td>\n",
              "      <td>0</td>\n",
              "      <td>0</td>\n",
              "      <td>0</td>\n",
              "      <td>0</td>\n",
              "      <td>0</td>\n",
              "      <td>0</td>\n",
              "      <td>0</td>\n",
              "      <td>0</td>\n",
              "      <td>0</td>\n",
              "      <td>0</td>\n",
              "    </tr>\n",
              "    <tr>\n",
              "      <th>in_อัตราตายของโรค</th>\n",
              "      <td>0</td>\n",
              "      <td>0</td>\n",
              "      <td>0</td>\n",
              "      <td>0</td>\n",
              "      <td>0</td>\n",
              "      <td>7</td>\n",
              "      <td>0</td>\n",
              "      <td>0</td>\n",
              "      <td>0</td>\n",
              "      <td>0</td>\n",
              "      <td>0</td>\n",
              "      <td>0</td>\n",
              "      <td>0</td>\n",
              "      <td>0</td>\n",
              "      <td>0</td>\n",
              "    </tr>\n",
              "    <tr>\n",
              "      <th>in_อาการโควิด</th>\n",
              "      <td>0</td>\n",
              "      <td>0</td>\n",
              "      <td>0</td>\n",
              "      <td>0</td>\n",
              "      <td>0</td>\n",
              "      <td>0</td>\n",
              "      <td>4</td>\n",
              "      <td>2</td>\n",
              "      <td>0</td>\n",
              "      <td>0</td>\n",
              "      <td>0</td>\n",
              "      <td>0</td>\n",
              "      <td>0</td>\n",
              "      <td>0</td>\n",
              "      <td>0</td>\n",
              "    </tr>\n",
              "    <tr>\n",
              "      <th>in_อาการทั่วไปของโควิด</th>\n",
              "      <td>0</td>\n",
              "      <td>0</td>\n",
              "      <td>0</td>\n",
              "      <td>0</td>\n",
              "      <td>0</td>\n",
              "      <td>0</td>\n",
              "      <td>0</td>\n",
              "      <td>1</td>\n",
              "      <td>0</td>\n",
              "      <td>0</td>\n",
              "      <td>0</td>\n",
              "      <td>0</td>\n",
              "      <td>0</td>\n",
              "      <td>0</td>\n",
              "      <td>0</td>\n",
              "    </tr>\n",
              "    <tr>\n",
              "      <th>in_ขนาดของโควิด</th>\n",
              "      <td>0</td>\n",
              "      <td>1</td>\n",
              "      <td>0</td>\n",
              "      <td>0</td>\n",
              "      <td>0</td>\n",
              "      <td>0</td>\n",
              "      <td>0</td>\n",
              "      <td>0</td>\n",
              "      <td>5</td>\n",
              "      <td>0</td>\n",
              "      <td>0</td>\n",
              "      <td>0</td>\n",
              "      <td>0</td>\n",
              "      <td>0</td>\n",
              "      <td>0</td>\n",
              "    </tr>\n",
              "    <tr>\n",
              "      <th>in_เป็นแล้วหายเองได้หรือไม่</th>\n",
              "      <td>0</td>\n",
              "      <td>0</td>\n",
              "      <td>0</td>\n",
              "      <td>0</td>\n",
              "      <td>0</td>\n",
              "      <td>0</td>\n",
              "      <td>0</td>\n",
              "      <td>0</td>\n",
              "      <td>0</td>\n",
              "      <td>2</td>\n",
              "      <td>0</td>\n",
              "      <td>0</td>\n",
              "      <td>0</td>\n",
              "      <td>0</td>\n",
              "      <td>0</td>\n",
              "    </tr>\n",
              "    <tr>\n",
              "      <th>in_โควิดกับโรคทางเดินหายใจตะวันออก</th>\n",
              "      <td>0</td>\n",
              "      <td>0</td>\n",
              "      <td>0</td>\n",
              "      <td>0</td>\n",
              "      <td>0</td>\n",
              "      <td>0</td>\n",
              "      <td>0</td>\n",
              "      <td>0</td>\n",
              "      <td>0</td>\n",
              "      <td>0</td>\n",
              "      <td>1</td>\n",
              "      <td>0</td>\n",
              "      <td>0</td>\n",
              "      <td>0</td>\n",
              "      <td>0</td>\n",
              "    </tr>\n",
              "    <tr>\n",
              "      <th>in_แนะนำวิธีป้องกัน</th>\n",
              "      <td>0</td>\n",
              "      <td>0</td>\n",
              "      <td>0</td>\n",
              "      <td>0</td>\n",
              "      <td>0</td>\n",
              "      <td>0</td>\n",
              "      <td>0</td>\n",
              "      <td>0</td>\n",
              "      <td>0</td>\n",
              "      <td>0</td>\n",
              "      <td>0</td>\n",
              "      <td>3</td>\n",
              "      <td>0</td>\n",
              "      <td>0</td>\n",
              "      <td>1</td>\n",
              "    </tr>\n",
              "    <tr>\n",
              "      <th>in_จุดเริ่มต้นของโควิด</th>\n",
              "      <td>0</td>\n",
              "      <td>0</td>\n",
              "      <td>0</td>\n",
              "      <td>0</td>\n",
              "      <td>0</td>\n",
              "      <td>0</td>\n",
              "      <td>0</td>\n",
              "      <td>0</td>\n",
              "      <td>0</td>\n",
              "      <td>0</td>\n",
              "      <td>0</td>\n",
              "      <td>0</td>\n",
              "      <td>1</td>\n",
              "      <td>0</td>\n",
              "      <td>0</td>\n",
              "    </tr>\n",
              "    <tr>\n",
              "      <th>in_การทำความสะอาดรถ</th>\n",
              "      <td>0</td>\n",
              "      <td>0</td>\n",
              "      <td>0</td>\n",
              "      <td>0</td>\n",
              "      <td>0</td>\n",
              "      <td>0</td>\n",
              "      <td>0</td>\n",
              "      <td>0</td>\n",
              "      <td>0</td>\n",
              "      <td>0</td>\n",
              "      <td>0</td>\n",
              "      <td>0</td>\n",
              "      <td>0</td>\n",
              "      <td>2</td>\n",
              "      <td>0</td>\n",
              "    </tr>\n",
              "    <tr>\n",
              "      <th>in_การป้องกันไม่ให้เชื้อแพร่</th>\n",
              "      <td>0</td>\n",
              "      <td>0</td>\n",
              "      <td>0</td>\n",
              "      <td>0</td>\n",
              "      <td>1</td>\n",
              "      <td>0</td>\n",
              "      <td>3</td>\n",
              "      <td>1</td>\n",
              "      <td>0</td>\n",
              "      <td>0</td>\n",
              "      <td>0</td>\n",
              "      <td>1</td>\n",
              "      <td>0</td>\n",
              "      <td>0</td>\n",
              "      <td>3</td>\n",
              "    </tr>\n",
              "  </tbody>\n",
              "</table>\n",
              "</div>"
            ],
            "text/plain": [
              "                                    in_การแพร่กระจายของโควิด  ...  in_การป้องกันไม่ให้เชื้อแพร่\n",
              "in_การแพร่กระจายของโควิด                                   3  ...                             0\n",
              "in_ความอันตรายของโควิด                                     0  ...                             0\n",
              "in_ช่วงอายุกับการติดโรค                                    0  ...                             0\n",
              "in_ปอดเสียหายทุกคนหรือไม่                                  0  ...                             0\n",
              "in_ข้อแนะนำในการนั่งรถสาธารณะ                              0  ...                             0\n",
              "in_อัตราตายของโรค                                          0  ...                             0\n",
              "in_อาการโควิด                                              0  ...                             0\n",
              "in_อาการทั่วไปของโควิด                                     0  ...                             0\n",
              "in_ขนาดของโควิด                                            0  ...                             0\n",
              "in_เป็นแล้วหายเองได้หรือไม่                                0  ...                             0\n",
              "in_โควิดกับโรคทางเดินหายใจตะวันออก                         0  ...                             0\n",
              "in_แนะนำวิธีป้องกัน                                        0  ...                             1\n",
              "in_จุดเริ่มต้นของโควิด                                     0  ...                             0\n",
              "in_การทำความสะอาดรถ                                        0  ...                             0\n",
              "in_การป้องกันไม่ให้เชื้อแพร่                               0  ...                             3\n",
              "\n",
              "[15 rows x 15 columns]"
            ]
          },
          "metadata": {
            "tags": []
          },
          "execution_count": 92
        }
      ]
    },
    {
      "cell_type": "code",
      "metadata": {
        "id": "uuWxK745VCkP",
        "colab_type": "code",
        "colab": {}
      },
      "source": [
        "def getintent(keyword):\n",
        "  keyword = [keyword]\n",
        "  feat = vectorizer.transform(keyword)\n",
        "  feat_norm = normalize(feat)\n",
        "  pred = model.predict(feat_norm)[0]\n",
        "  return pred"
      ],
      "execution_count": 0,
      "outputs": []
    },
    {
      "cell_type": "code",
      "metadata": {
        "id": "mN0WaNHEXsr9",
        "colab_type": "code",
        "outputId": "511cebdc-2b60-4b9d-9259-af1464a48122",
        "colab": {
          "base_uri": "https://localhost:8080/",
          "height": 34
        }
      },
      "source": [
        "getintent('แนะนำการป้องกันหน่อย')"
      ],
      "execution_count": 0,
      "outputs": [
        {
          "output_type": "execute_result",
          "data": {
            "text/plain": [
              "'in_แนะนำวิธีป้องกัน'"
            ]
          },
          "metadata": {
            "tags": []
          },
          "execution_count": 164
        }
      ]
    },
    {
      "cell_type": "code",
      "metadata": {
        "id": "JHBqdLaeVfcB",
        "colab_type": "code",
        "colab": {}
      },
      "source": [
        "def getresult(keyword):\n",
        "  pred = getintent(keyword)\n",
        "  result = ansdat[ansdat['Intent'] == pred]\n",
        "  textresult = result\n",
        "  textresult = textresult['Answer'].values+'\\n'+textresult['Source'].values\n",
        "  textresult = textresult[0]\n",
        "  return textresult"
      ],
      "execution_count": 0,
      "outputs": []
    },
    {
      "cell_type": "code",
      "metadata": {
        "id": "gUgHUu7hWS_B",
        "colab_type": "code",
        "outputId": "3a4c47ef-ac53-47fb-c79f-8c8f771ab3f3",
        "colab": {
          "base_uri": "https://localhost:8080/",
          "height": 54
        }
      },
      "source": [
        "getresult('แนะนำการป้องกันหน่อย')"
      ],
      "execution_count": 0,
      "outputs": [
        {
          "output_type": "execute_result",
          "data": {
            "text/plain": [
              "'หลีกเลี่ยงการสัมผัสใกล้ชิดผู้มีอาการป่วย รักษาระยะห่างอย่างน้อย 1 เมตร หลีกเลี่ยงการสัมผัสบริเวณตา จมูกและปาก โดยไม่ได้ล้างมือ ควรล้างมือบ่อยๆ ด้วยน้ำและสบู่ หรือน้ำยาแอลกอฮอล์ล้างมือ 70% หากมีไข้ ไอ หายใจลำบาก ให้ไปพบแพทย์ทันที และแจ้งประวัติการเดินทาง\\nhttps://ddc.moph.go.th/viralpneumonia/faq_more.php'"
            ]
          },
          "metadata": {
            "tags": []
          },
          "execution_count": 166
        }
      ]
    }
  ]
}